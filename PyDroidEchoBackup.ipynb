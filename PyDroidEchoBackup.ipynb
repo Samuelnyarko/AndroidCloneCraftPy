{
 "cells": [
  {
   "cell_type": "markdown",
   "id": "e45bb5cf",
   "metadata": {
    "ExecuteTime": {
     "end_time": "2023-11-16T13:23:01.476880Z",
     "start_time": "2023-11-16T13:23:01.470385Z"
    }
   },
   "source": [
    "# PyDroidEchoBackup - Android Backup & Restore Utility\n",
    "\n",
    "Welcome to **PyDroidEchoBackup**, a Python-based utility designed to make backing up and restoring your Android device's data a breeze. This tool leverages the power of the Android Debug Bridge (ADB) to provide a smooth and efficient data transfer experience.\n",
    "\n",
    "Whether you're upgrading to a new phone or need to secure your data, PyDroidEchoBackup offers a user-friendly approach to preserve your essential apps, storage, and settings.\n",
    "\n",
    "For more details, contributions, and the source code, check out our GitHub repository: [https://github.com/Samuelnyarko/AndroidCloneCraftPy/tree/main](https://github.com/Samuelnyarko)\n"
   ]
  },
  {
   "cell_type": "markdown",
   "id": "b2cc4883",
   "metadata": {},
   "source": [
    "# backup"
   ]
  },
  {
   "cell_type": "code",
   "execution_count": 1,
   "id": "b6bf4d73",
   "metadata": {
    "ExecuteTime": {
     "end_time": "2023-11-16T12:44:31.567736Z",
     "start_time": "2023-11-16T12:22:54.731390Z"
    }
   },
   "outputs": [
    {
     "name": "stdout",
     "output_type": "stream",
     "text": [
      "Starting backup...\n",
      "Please confirm the backup on your device.\n",
      "Backup completed. The backup file is saved at C:\\Users\\Mining\\Dropbox\\PC\\Documents\\phone\\file.ab\n"
     ]
    }
   ],
   "source": [
    "import subprocess\n",
    "import os\n",
    "import time\n",
    "\n",
    "def run_adb_command(command, adb_path):\n",
    "    result = subprocess.run([adb_path] + command, capture_output=True, text=True)\n",
    "    if result.stderr and \"daemon started successfully\" not in result.stderr:\n",
    "        raise Exception(\"ADB Error: \" + result.stderr)\n",
    "    return result.stdout\n",
    "\n",
    "def backup_data(backup_file_path, adb_path):\n",
    "    # Ensure the directory exists\n",
    "    os.makedirs(os.path.dirname(backup_file_path), exist_ok=True)\n",
    "    \n",
    "    print(\"Starting backup...\")\n",
    "    # Command modified to exclude the '-all' option and specify types of data to backup\n",
    "    command = [\"backup\", \"-apk\", \"-obb\", \"-shared\", \"-no-system\", \"-f\", backup_file_path]\n",
    "    run_adb_command(command, adb_path)\n",
    "\n",
    "    # Wait for user to accept backup on phone\n",
    "    print(\"Please confirm the backup on your device.\")\n",
    "    time.sleep(60)  # Waits 60 seconds for user to confirm backup on phone\n",
    "\n",
    "    print(f\"Backup completed. The backup file is saved at {backup_file_path}\")\n",
    "\n",
    "# Usage\n",
    "adb_path = \"C:\\\\Users\\\\Mining\\\\AppData\\\\Local\\\\Android\\\\Sdk\\\\platform-tools\\\\adb\"  # Full path to adb\n",
    "backup_file_path = \"C:\\\\Users\\\\Mining\\\\Dropbox\\\\PC\\\\Documents\\\\phone\\\\file.ab\"  # Replace with your desired backup file path\n",
    "backup_data(backup_file_path, adb_path)\n"
   ]
  },
  {
   "cell_type": "markdown",
   "id": "1f8cc838",
   "metadata": {},
   "source": [
    "# Restore"
   ]
  },
  {
   "cell_type": "code",
   "execution_count": null,
   "id": "9b6ffad9",
   "metadata": {},
   "outputs": [],
   "source": [
    "import subprocess\n",
    "import os\n",
    "\n",
    "def run_adb_command(command, adb_path):\n",
    "    result = subprocess.run([adb_path] + command, capture_output=True, text=True)\n",
    "    if result.stderr:\n",
    "        raise Exception(\"ADB Error: \" + result.stderr)\n",
    "    return result.stdout\n",
    "\n",
    "def restore_data(backup_file_path, adb_path):\n",
    "    if not os.path.exists(backup_file_path):\n",
    "        raise Exception(f\"Backup file not found at {backup_file_path}\")\n",
    "    \n",
    "    print(\"Starting restore...\")\n",
    "    command = [\"restore\", backup_file_path]\n",
    "    run_adb_command(command, adb_path)\n",
    "    print(\"Restore completed. Data has been restored from the backup file.\")\n",
    "\n",
    "# Usage\n",
    "adb_path = \"C:\\\\Users\\\\Mining\\\\AppData\\\\Local\\\\Android\\\\Sdk\\\\platform-tools\\\\adb\"  # Replace with your full path to adb\n",
    "backup_file_path = \"C:\\\\Users\\\\Mining\\\\Dropbox\\\\PC\\\\Documents\\\\phone\\\\file.ab\"  # Replace with your backup file path\n",
    "restore_data(backup_file_path, adb_path)\n"
   ]
  },
  {
   "cell_type": "code",
   "execution_count": null,
   "id": "5bc188d8",
   "metadata": {},
   "outputs": [],
   "source": []
  }
 ],
 "metadata": {
  "kernelspec": {
   "display_name": "Python 3 (ipykernel)",
   "language": "python",
   "name": "python3"
  },
  "language_info": {
   "codemirror_mode": {
    "name": "ipython",
    "version": 3
   },
   "file_extension": ".py",
   "mimetype": "text/x-python",
   "name": "python",
   "nbconvert_exporter": "python",
   "pygments_lexer": "ipython3",
   "version": "3.11.5"
  },
  "toc": {
   "base_numbering": 1,
   "nav_menu": {},
   "number_sections": true,
   "sideBar": true,
   "skip_h1_title": false,
   "title_cell": "Table of Contents",
   "title_sidebar": "Contents",
   "toc_cell": false,
   "toc_position": {},
   "toc_section_display": true,
   "toc_window_display": false
  },
  "varInspector": {
   "cols": {
    "lenName": 16,
    "lenType": 16,
    "lenVar": 40
   },
   "kernels_config": {
    "python": {
     "delete_cmd_postfix": "",
     "delete_cmd_prefix": "del ",
     "library": "var_list.py",
     "varRefreshCmd": "print(var_dic_list())"
    },
    "r": {
     "delete_cmd_postfix": ") ",
     "delete_cmd_prefix": "rm(",
     "library": "var_list.r",
     "varRefreshCmd": "cat(var_dic_list()) "
    }
   },
   "types_to_exclude": [
    "module",
    "function",
    "builtin_function_or_method",
    "instance",
    "_Feature"
   ],
   "window_display": false
  }
 },
 "nbformat": 4,
 "nbformat_minor": 5
}
